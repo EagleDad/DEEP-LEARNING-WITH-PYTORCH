{
 "cells": [
  {
   "cell_type": "markdown",
   "metadata": {},
   "source": [
    "# <font style=\"color:blue\">Run Length Encoding for kaggle competition</font>\n",
    "\n"
   ]
  },
  {
   "cell_type": "code",
   "execution_count": 1,
   "metadata": {},
   "outputs": [],
   "source": [
    "%matplotlib inline"
   ]
  },
  {
   "cell_type": "code",
   "execution_count": 2,
   "metadata": {},
   "outputs": [],
   "source": [
    "import matplotlib.pyplot as plt  # one of the best graphics library for python\n",
    "plt.style.use('ggplot')"
   ]
  },
  {
   "cell_type": "code",
   "execution_count": 2,
   "metadata": {},
   "outputs": [],
   "source": [
    "import os\n",
    "import time\n",
    "\n",
    "from dataclasses import dataclass\n",
    "\n",
    "import numpy as np\n",
    "import torch\n",
    "import torch.nn as nn\n",
    "import torch.optim as optim\n",
    "import torch.nn.functional as F\n",
    "\n",
    "from torchvision import datasets, transforms\n",
    "\n",
    "from torch.optim import lr_scheduler"
   ]
  },
  {
   "cell_type": "code",
   "execution_count": 6,
   "metadata": {},
   "outputs": [
    {
     "name": "stdout",
     "output_type": "stream",
     "text": [
      "tensor([[3, 0, 1, 1],\n",
      "        [3, 3, 1, 0],\n",
      "        [0, 1, 3, 0]])\n",
      "tensor([[2, 2, 2, 3],\n",
      "        [2, 0, 0, 3],\n",
      "        [1, 2, 1, 2],\n",
      "        [0, 0, 0, 1]])\n"
     ]
    }
   ],
   "source": [
    "imageid1 =\"248462385\"\n",
    "\n",
    "mask1 = torch.tensor([[3, 0, 1, 1],\n",
    "        [3, 3, 1, 0],\n",
    "        [0, 1, 3, 0]])\n",
    "\n",
    "imageid2= \"12455519\"\n",
    "\n",
    "mask2 = torch.tensor([[2, 2, 2, 3],\n",
    "        [2, 0, 0, 3],\n",
    "        [1, 2, 1, 2],\n",
    "        [0, 0, 0, 1]])\n",
    "\n",
    "print('mask1: ', mask1)\n",
    "print('mask2: ', mask2)"
   ]
  }
 ],
 "metadata": {
  "jupytext": {
   "encoding": "# -*- coding: utf-8 -*-",
   "formats": "ipynb,py:percent"
  },
  "kernelspec": {
   "display_name": "Python 3",
   "language": "python",
   "name": "python3"
  },
  "language_info": {
   "codemirror_mode": {
    "name": "ipython",
    "version": 3
   },
   "file_extension": ".py",
   "mimetype": "text/x-python",
   "name": "python",
   "nbconvert_exporter": "python",
   "pygments_lexer": "ipython3",
   "version": "3.10.3"
  }
 },
 "nbformat": 4,
 "nbformat_minor": 2
}

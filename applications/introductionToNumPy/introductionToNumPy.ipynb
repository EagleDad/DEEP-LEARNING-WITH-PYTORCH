{
 "cells": [
  {
   "cell_type": "markdown",
   "metadata": {},
   "source": [
    "# <font color='blue'>Numpy Refresher</font>\n",
    "\n",
    "### <font style=\"color:rgb(8,133,37)\">Why do we need a special library for math and DL?</font>\n",
    "Python provides data types such as lists / tuples out of the box. Then, why are we using special libraries for deep learning tasks, such as Pytorch or TensorFlow, and not using standard types?\n",
    "\n",
    "The major reason is efficiency - In pure python, there are no primitive types for numbers, as in e.g. C language. All the data types in Python are objects with lots of properties and methods. You can see it using the `dir` function:"
   ]
  },
  {
   "cell_type": "code",
   "execution_count": 2,
   "metadata": {},
   "outputs": [
    {
     "data": {
      "text/plain": [
       "['__xor__',\n",
       " 'as_integer_ratio',\n",
       " 'bit_length',\n",
       " 'conjugate',\n",
       " 'denominator',\n",
       " 'from_bytes',\n",
       " 'imag',\n",
       " 'numerator',\n",
       " 'real',\n",
       " 'to_bytes']"
      ]
     },
     "execution_count": 2,
     "metadata": {},
     "output_type": "execute_result"
    }
   ],
   "source": [
    "a = 3\n",
    "dir(a)[-10:]"
   ]
  },
  {
   "cell_type": "markdown",
   "metadata": {},
   "source": [
    "### <font style=\"color:rgb(8,133,37)\">Python Issues</font>\n",
    "\n",
    "- slow in tasks that require tons of simple math operations on numbers\n",
    "- huge memory overhead due to storing plain numbers as objects\n",
    "- runtime overhead during memory dereferencing - cache issues\n",
    "\n",
    "\n",
    "NumPy is an abbreviation for \"numerical python\" and as it stands from the naming it provides a rich collection of operations on the numerical data types with a python interface. The core data structure of NumPy is `ndarray` - a multidimensional array. Let's take a look at its interface in comparison with plain python lists."
   ]
  },
  {
   "cell_type": "markdown",
   "metadata": {},
   "source": [
    "# <font color='blue'>Performance comparison of Numpy array and Python lists </font>\n",
    "\n",
    "Let's imagine a simple task - we have several 2-dimensional points and we want to represent them as a list of points for further processing. For the sake of simplicity of processing we will not create a `Point` object and will use a list of 2 elements to represent coordinates of each point (`x` and `y`):"
   ]
  },
  {
   "cell_type": "code",
   "execution_count": 3,
   "metadata": {},
   "outputs": [
    {
     "data": {
      "text/plain": [
       "[[0, 1], [10, 5], [7, 3]]"
      ]
     },
     "execution_count": 3,
     "metadata": {},
     "output_type": "execute_result"
    }
   ],
   "source": [
    "# create points list using explicit specification of coordinates of each point\n",
    "points = [[0, 1], [10, 5], [7, 3]]\n",
    "points"
   ]
  },
  {
   "cell_type": "code",
   "execution_count": 4,
   "metadata": {},
   "outputs": [
    {
     "data": {
      "text/plain": [
       "[[5, 15],\n",
       " [0, 42],\n",
       " [3, 18],\n",
       " [8, 22],\n",
       " [6, 17],\n",
       " [3, 10],\n",
       " [10, 10],\n",
       " [4, 48],\n",
       " [2, 22],\n",
       " [1, 34]]"
      ]
     },
     "execution_count": 4,
     "metadata": {},
     "output_type": "execute_result"
    }
   ],
   "source": [
    "# create random points\n",
    "from random import randint\n",
    "\n",
    "num_dims = 2\n",
    "num_points = 10\n",
    "x_range = (0, 10)\n",
    "y_range = (1, 50)\n",
    "points = [[randint(*x_range), randint(*y_range)] for _ in range(num_points)]\n",
    "points"
   ]
  },
  {
   "cell_type": "markdown",
   "metadata": {},
   "source": [
    "**How can we do the same using Numpy? Easy!**"
   ]
  },
  {
   "cell_type": "code",
   "execution_count": 5,
   "metadata": {},
   "outputs": [
    {
     "data": {
      "text/plain": [
       "array([[ 5, 15],\n",
       "       [ 0, 42],\n",
       "       [ 3, 18],\n",
       "       [ 8, 22],\n",
       "       [ 6, 17],\n",
       "       [ 3, 10],\n",
       "       [10, 10],\n",
       "       [ 4, 48],\n",
       "       [ 2, 22],\n",
       "       [ 1, 34]])"
      ]
     },
     "execution_count": 5,
     "metadata": {},
     "output_type": "execute_result"
    }
   ],
   "source": [
    "import numpy as np\n",
    "points = np.array(points)  # we are able to create numpy arrays from python lists\n",
    "points"
   ]
  },
  {
   "cell_type": "code",
   "execution_count": 6,
   "metadata": {},
   "outputs": [
    {
     "data": {
      "text/plain": [
       "array([[ 8,  7],\n",
       "       [ 4,  6],\n",
       "       [ 4, 14],\n",
       "       [ 2,  3],\n",
       "       [ 1, 14],\n",
       "       [ 9, 46],\n",
       "       [ 2, 41],\n",
       "       [ 9, 27],\n",
       "       [ 6, 25],\n",
       "       [10, 10]])"
      ]
     },
     "execution_count": 6,
     "metadata": {},
     "output_type": "execute_result"
    }
   ],
   "source": [
    "# create random points using numpy library\n",
    "num_dims = 2\n",
    "num_points = 10\n",
    "x_range = (0, 11)\n",
    "y_range = (1, 51)\n",
    "points = np.random.randint(\n",
    "    low=(x_range[0], y_range[0]), high=(x_range[1], y_range[1]), size=(num_points, num_dims)\n",
    ")\n",
    "points"
   ]
  },
  {
   "cell_type": "markdown",
   "metadata": {},
   "source": [
    "**It may look as over-complication to use NumPy for the creation of such a list and we still cannot see the good sides of this approach. But let's take a look at the performance side.**"
   ]
  },
  {
   "cell_type": "code",
   "execution_count": 7,
   "metadata": {},
   "outputs": [],
   "source": [
    "num_dims = 2\n",
    "num_points = 100000\n",
    "x_range = (0, 10)\n",
    "y_range = (1, 50)"
   ]
  },
  {
   "cell_type": "markdown",
   "metadata": {},
   "source": [
    "### <font style=\"color:rgb(8,133,37)\">Python performance</font>"
   ]
  },
  {
   "cell_type": "code",
   "execution_count": 8,
   "metadata": {},
   "outputs": [
    {
     "name": "stdout",
     "output_type": "stream",
     "text": [
      "164 ms ± 2.92 ms per loop (mean ± std. dev. of 7 runs, 10 loops each)\n"
     ]
    }
   ],
   "source": [
    "%timeit \\\n",
    "points = [[randint(*x_range), randint(*y_range)] for _ in range(num_points)]"
   ]
  },
  {
   "cell_type": "markdown",
   "metadata": {},
   "source": [
    "### <font style=\"color:rgb(8,133,37)\">NumPy performance</font>"
   ]
  },
  {
   "cell_type": "code",
   "execution_count": 9,
   "metadata": {},
   "outputs": [
    {
     "name": "stdout",
     "output_type": "stream",
     "text": [
      "3.72 ms ± 93.8 µs per loop (mean ± std. dev. of 7 runs, 100 loops each)\n"
     ]
    }
   ],
   "source": [
    "%timeit \\\n",
    "points = np.random.randint(low=(x_range[0], y_range[0]), high=(x_range[1], y_range[1]), size=(num_points, num_dims))"
   ]
  },
  {
   "cell_type": "markdown",
   "metadata": {},
   "source": [
    "Wow, NumPy is **around 50 times faster** than pure Python on this task! One may say that the size of the array we're generating is relatively large, but it's very reasonable if we take into account the dimensions of inputs (and weights) in neural networks (or math problems such as hydrodynamics)."
   ]
  },
  {
   "cell_type": "markdown",
   "metadata": {},
   "source": [
    "# <font style=\"color:blue\">Basics of Numpy </font>\n",
    "We will go over some of the useful operations of Numpy arrays, which are most commonly used in ML tasks."
   ]
  },
  {
   "cell_type": "markdown",
   "metadata": {},
   "source": [
    "## <font color='blue'>1. Basic Operations </font>\n"
   ]
  },
  {
   "cell_type": "markdown",
   "metadata": {},
   "source": [
    "### <font style=\"color:rgb(8,133,37)\">1.1. Python list to numpy array</font>"
   ]
  },
  {
   "cell_type": "code",
   "execution_count": 10,
   "metadata": {},
   "outputs": [
    {
     "data": {
      "text/plain": [
       "array([ 1,  2,  3,  4,  5,  6,  7,  8,  9, 10])"
      ]
     },
     "execution_count": 10,
     "metadata": {},
     "output_type": "execute_result"
    }
   ],
   "source": [
    "py_list = [1, 2, 3, 4, 5, 6, 7, 8, 9, 10]\n",
    "\n",
    "np_array = np.array(py_list)\n",
    "np_array"
   ]
  },
  {
   "cell_type": "code",
   "execution_count": 11,
   "metadata": {},
   "outputs": [
    {
     "data": {
      "text/plain": [
       "array([[ 1,  2,  3],\n",
       "       [ 4,  5,  6],\n",
       "       [ 7,  8,  9],\n",
       "       [10, 11, 12]])"
      ]
     },
     "execution_count": 11,
     "metadata": {},
     "output_type": "execute_result"
    }
   ],
   "source": [
    "py_list = [[1, 2, 3], [4, 5, 6], [7, 8, 9], [10, 11, 12]]\n",
    "\n",
    "np_array= np.array(py_list)\n",
    "np_array"
   ]
  },
  {
   "cell_type": "markdown",
   "metadata": {},
   "source": [
    "### <font style=\"color:rgb(8,133,37)\">1.2. Slicing and Indexing</font>"
   ]
  },
  {
   "cell_type": "code",
   "execution_count": 12,
   "metadata": {},
   "outputs": [
    {
     "name": "stdout",
     "output_type": "stream",
     "text": [
      "First row:\t\t\t[1 2 3]\n",
      "First column:\t\t\t[ 1  4  7 10]\n",
      "3rd row 2nd column element:\t8\n",
      "2nd onwards row and 2nd onwards column:\n",
      "[[ 5  6]\n",
      " [ 8  9]\n",
      " [11 12]]\n",
      "Last 2 rows and last 2 columns:\n",
      "[[ 8  9]\n",
      " [11 12]]\n",
      "Array with 3rd, 1st and 4th row:\n",
      "[[ 7  8  9]\n",
      " [ 1  2  3]\n",
      " [10 11 12]]\n"
     ]
    }
   ],
   "source": [
    "print('First row:\\t\\t\\t{}'.format(np_array[0]))\n",
    "print('First column:\\t\\t\\t{}'.format(np_array[:, 0]))\n",
    "print('3rd row 2nd column element:\\t{}'.format(np_array[2][1]))\n",
    "print('2nd onwards row and 2nd onwards column:\\n{}'.format(np_array[1:, 1:]))\n",
    "print('Last 2 rows and last 2 columns:\\n{}'.format(np_array[-2:, -2:]))\n",
    "print('Array with 3rd, 1st and 4th row:\\n{}'.format(np_array[[2, 0, 3]]))"
   ]
  },
  {
   "cell_type": "markdown",
   "metadata": {},
   "source": [
    "### <font style=\"color:rgb(8,133,37)\">1.3. Basic attributes of NumPy array</font>\n",
    "\n",
    "Get a full list of attributes of an ndarray object [here](https://numpy.org/devdocs/user/quickstart.html)."
   ]
  },
  {
   "cell_type": "code",
   "execution_count": 13,
   "metadata": {},
   "outputs": [
    {
     "name": "stdout",
     "output_type": "stream",
     "text": [
      "Data type:\tint32\n",
      "Array shape:\t(4, 3)\n"
     ]
    }
   ],
   "source": [
    "print('Data type:\\t{}'.format(np_array.dtype))\n",
    "print('Array shape:\\t{}'.format(np_array.shape))"
   ]
  },
  {
   "cell_type": "markdown",
   "metadata": {},
   "source": [
    "Let's create a function (with name `array_info`) to print the NumPy array, its shape, and its data type. We use this function to print arrays further in this section. \n"
   ]
  },
  {
   "cell_type": "code",
   "execution_count": 14,
   "metadata": {},
   "outputs": [
    {
     "name": "stdout",
     "output_type": "stream",
     "text": [
      "Array:\n",
      "[[ 1  2  3]\n",
      " [ 4  5  6]\n",
      " [ 7  8  9]\n",
      " [10 11 12]]\n",
      "Data type:\tint32\n",
      "Array shape:\t(4, 3)\n",
      "\n"
     ]
    }
   ],
   "source": [
    "def array_info(array):\n",
    "    print('Array:\\n{}'.format(array))\n",
    "    print('Data type:\\t{}'.format(array.dtype))\n",
    "    print('Array shape:\\t{}\\n'.format(array.shape))\n",
    "    \n",
    "array_info(np_array)"
   ]
  },
  {
   "cell_type": "markdown",
   "metadata": {},
   "source": [
    "### <font style=\"color:rgb(8,133,37)\">1.4. Creating NumPy array using built-in functions and datatypes</font>\n",
    "\n",
    "The full list of supported data types can be found [here](https://numpy.org/devdocs/user/basics.types.html).\n"
   ]
  },
  {
   "cell_type": "markdown",
   "metadata": {},
   "source": [
    "**Sequence Array**\n",
    "\n",
    "`np.arange([start, ]stop, [step, ]dtype=None)`\n",
    "\n",
    "Return evenly spaced values in `[start, stop)`.\n",
    "\n",
    "More delatis of the function can be found [here](https://docs.scipy.org/doc/numpy/reference/generated/numpy.arange.html)."
   ]
  },
  {
   "cell_type": "code",
   "execution_count": 15,
   "metadata": {},
   "outputs": [
    {
     "name": "stdout",
     "output_type": "stream",
     "text": [
      "Array:\n",
      "[0 1 2 3 4 5 6 7 8 9]\n",
      "Data type:\tint64\n",
      "Array shape:\t(10,)\n",
      "\n"
     ]
    }
   ],
   "source": [
    "# sequence array\n",
    "array = np.arange(10, dtype=np.int64)\n",
    "array_info(array)"
   ]
  },
  {
   "cell_type": "code",
   "execution_count": 17,
   "metadata": {},
   "outputs": [
    {
     "name": "stdout",
     "output_type": "stream",
     "text": [
      "Array:\n",
      "[5. 6. 7. 8. 9.]\n",
      "Data type:\tfloat32\n",
      "Array shape:\t(5,)\n",
      "\n"
     ]
    }
   ],
   "source": [
    "# sequence array\n",
    "array = np.arange(5, 10, dtype=np.float32)\n",
    "array_info(array)"
   ]
  },
  {
   "cell_type": "markdown",
   "metadata": {},
   "source": [
    "**Zeroes Array**"
   ]
  },
  {
   "cell_type": "code",
   "execution_count": 18,
   "metadata": {},
   "outputs": [
    {
     "name": "stdout",
     "output_type": "stream",
     "text": [
      "Array:\n",
      "[[0. 0. 0.]\n",
      " [0. 0. 0.]]\n",
      "Data type:\tfloat32\n",
      "Array shape:\t(2, 3)\n",
      "\n"
     ]
    }
   ],
   "source": [
    "# Zero array/matrix\n",
    "zeros = np.zeros((2, 3), dtype=np.float32)\n",
    "array_info(zeros)"
   ]
  },
  {
   "cell_type": "markdown",
   "metadata": {},
   "source": [
    "**Ones Array**"
   ]
  },
  {
   "cell_type": "code",
   "execution_count": 19,
   "metadata": {},
   "outputs": [
    {
     "name": "stdout",
     "output_type": "stream",
     "text": [
      "Array:\n",
      "[[1 1]\n",
      " [1 1]\n",
      " [1 1]]\n",
      "Data type:\tint8\n",
      "Array shape:\t(3, 2)\n",
      "\n"
     ]
    }
   ],
   "source": [
    "# ones array/matrix\n",
    "ones = np.ones((3, 2), dtype=np.int8)\n",
    "array_info(ones)"
   ]
  },
  {
   "cell_type": "markdown",
   "metadata": {},
   "source": [
    "**Constant Array**"
   ]
  },
  {
   "cell_type": "code",
   "execution_count": 20,
   "metadata": {},
   "outputs": [
    {
     "name": "stdout",
     "output_type": "stream",
     "text": [
      "Array:\n",
      "[[3.14 3.14 3.14]\n",
      " [3.14 3.14 3.14]\n",
      " [3.14 3.14 3.14]]\n",
      "Data type:\tfloat64\n",
      "Array shape:\t(3, 3)\n",
      "\n"
     ]
    }
   ],
   "source": [
    "# constant array/matrix\n",
    "array = np.full((3, 3), 3.14)\n",
    "array_info(array)"
   ]
  },
  {
   "cell_type": "markdown",
   "metadata": {},
   "source": [
    "**Identity Array**"
   ]
  },
  {
   "cell_type": "code",
   "execution_count": 21,
   "metadata": {},
   "outputs": [
    {
     "name": "stdout",
     "output_type": "stream",
     "text": [
      "Array:\n",
      "[[1. 0. 0. 0. 0.]\n",
      " [0. 1. 0. 0. 0.]\n",
      " [0. 0. 1. 0. 0.]\n",
      " [0. 0. 0. 1. 0.]\n",
      " [0. 0. 0. 0. 1.]]\n",
      "Data type:\tfloat32\n",
      "Array shape:\t(5, 5)\n",
      "\n"
     ]
    }
   ],
   "source": [
    "# identity array/matrix\n",
    "identity = np.eye(5, dtype=np.float32)      # identity matrix of shape 5x5\n",
    "array_info(identity)"
   ]
  },
  {
   "cell_type": "markdown",
   "metadata": {},
   "source": [
    "**Random Integers Array**\n",
    "\n",
    "`np.random.randint(low, high=None, size=None, dtype='l')`\n",
    "\n",
    "Return random integer from the `discrete uniform` distribution in `[low, high)`. If high is `None`, then return elements are in `[0, low)`\n",
    "\n",
    "More details can be found [here](https://docs.scipy.org/doc/numpy-1.15.1/reference/generated/numpy.random.randint.html)."
   ]
  },
  {
   "cell_type": "code",
   "execution_count": 22,
   "metadata": {},
   "outputs": [
    {
     "name": "stdout",
     "output_type": "stream",
     "text": [
      "Array:\n",
      "[[5 6 6]\n",
      " [8 8 8]]\n",
      "Data type:\tint32\n",
      "Array shape:\t(2, 3)\n",
      "\n"
     ]
    }
   ],
   "source": [
    "# random integers array/matrix\n",
    "rand_int = np.random.randint(5, 10, (2,3)) # random integer array of shape 2x3, values lies in [5, 10)\n",
    "array_info(rand_int)"
   ]
  },
  {
   "cell_type": "markdown",
   "metadata": {},
   "source": [
    "**Random Array**\n",
    "\n",
    "`np.random.random(size=None)`\n",
    "\n",
    "Results are from the `continuous uniform` distribution in `[0.0, 1.0)`.\n",
    "\n",
    "These types of functions are useful is initializing the weight in Deep Learning. More details and similar functions can found [here](https://docs.scipy.org/doc/numpy-1.14.0/reference/generated/numpy.random.random.html)."
   ]
  },
  {
   "cell_type": "code",
   "execution_count": 25,
   "metadata": {},
   "outputs": [
    {
     "name": "stdout",
     "output_type": "stream",
     "text": [
      "Array:\n",
      "[[0.10403885 0.11908965 0.7233877  0.92035989 0.59135651]\n",
      " [0.28096439 0.68906605 0.49959496 0.03424761 0.50200994]\n",
      " [0.27355508 0.47175544 0.45064836 0.8184905  0.19771487]\n",
      " [0.57457168 0.7677021  0.36379058 0.84694179 0.62107508]\n",
      " [0.55447741 0.65756751 0.62136944 0.06406622 0.44189108]]\n",
      "Data type:\tfloat64\n",
      "Array shape:\t(5, 5)\n",
      "\n"
     ]
    }
   ],
   "source": [
    "# random array/matrix\n",
    "random_array = np.random.random((5, 5))   # random array of shape 5x5\n",
    "array_info(random_array)"
   ]
  },
  {
   "cell_type": "markdown",
   "metadata": {},
   "source": [
    "**Boolean Array**\n",
    "\n",
    "If we compare above `random_array` with some `constant` or `array` of the same shape, we will get a boolean array."
   ]
  },
  {
   "cell_type": "code",
   "execution_count": 27,
   "metadata": {},
   "outputs": [
    {
     "name": "stdout",
     "output_type": "stream",
     "text": [
      "Array:\n",
      "[[False False  True  True  True]\n",
      " [False  True False False  True]\n",
      " [False False False  True False]\n",
      " [ True  True False  True  True]\n",
      " [ True  True  True False False]]\n",
      "Data type:\tbool\n",
      "Array shape:\t(5, 5)\n",
      "\n"
     ]
    }
   ],
   "source": [
    "# Boolean array/matrix\n",
    "bool_array = random_array > 0.5\n",
    "array_info(bool_array)"
   ]
  },
  {
   "cell_type": "markdown",
   "metadata": {},
   "source": [
    "The boolean array can be used to get value from the array. If we use a boolean array of the same shape as indices, we will get those values for which the boolean array is True, and other values will be masked.\n",
    "\n",
    "Let's use the above `boolen_array` to get values from `random_array`."
   ]
  },
  {
   "cell_type": "code",
   "execution_count": 28,
   "metadata": {},
   "outputs": [
    {
     "name": "stdout",
     "output_type": "stream",
     "text": [
      "Array:\n",
      "[0.7233877  0.92035989 0.59135651 0.68906605 0.50200994 0.8184905\n",
      " 0.57457168 0.7677021  0.84694179 0.62107508 0.55447741 0.65756751\n",
      " 0.62136944]\n",
      "Data type:\tfloat64\n",
      "Array shape:\t(13,)\n",
      "\n"
     ]
    }
   ],
   "source": [
    "# Use boolean array/matrix to get values from array/matrix\n",
    "values = random_array[bool_array]\n",
    "array_info(values)"
   ]
  },
  {
   "cell_type": "markdown",
   "metadata": {},
   "source": [
    "Basically, from the above method, we are filtering values that are greater than `0.5`. "
   ]
  },
  {
   "cell_type": "markdown",
   "metadata": {},
   "source": [
    "**Linespace**\n",
    "\n",
    "`np.linspace(start, stop, num=50, endpoint=True, retstep=False, dtype=None, axis=0)`\n",
    "\n",
    "Returns num evenly spaced samples, calculated over the interval `[start, stop]`.\n",
    "\n",
    "More detais about the function find [here](https://docs.scipy.org/doc/numpy/reference/generated/numpy.linspace.html)"
   ]
  },
  {
   "cell_type": "code",
   "execution_count": 29,
   "metadata": {},
   "outputs": [
    {
     "name": "stdout",
     "output_type": "stream",
     "text": [
      "Array:\n",
      "[0.        0.8333333 1.6666666 2.5       3.3333333 4.1666665 5.       ]\n",
      "Data type:\tfloat32\n",
      "Array shape:\t(7,)\n",
      "\n"
     ]
    }
   ],
   "source": [
    "# Linspace\n",
    "linespace = np.linspace(0, 5, 7, dtype=np.float32)   # 7 elements between 0 and 5\n",
    "array_info(linespace)"
   ]
  },
  {
   "cell_type": "markdown",
   "metadata": {},
   "source": [
    "### <font style=\"color:rgb(8,133,37)\">1.5. Data type conversion</font>\n",
    "\n",
    "Sometimes it is essential to convert one data type to another data type."
   ]
  },
  {
   "cell_type": "code",
   "execution_count": 31,
   "metadata": {},
   "outputs": [
    {
     "name": "stdout",
     "output_type": "stream",
     "text": [
      "Array:\n",
      "[39 59  9 95 79 41  3 23 25 80]\n",
      "Data type:\tint32\n",
      "Array shape:\t(10,)\n",
      "\n"
     ]
    }
   ],
   "source": [
    "age_in_years = np.random.randint(0, 100, 10)\n",
    "array_info(age_in_years)"
   ]
  },
  {
   "cell_type": "markdown",
   "metadata": {},
   "source": [
    "Do we really need an `int64` data type to store age?\n",
    "\n",
    "So let's convert it to `uint8`."
   ]
  },
  {
   "cell_type": "code",
   "execution_count": 32,
   "metadata": {},
   "outputs": [
    {
     "name": "stdout",
     "output_type": "stream",
     "text": [
      "Array:\n",
      "[39 59  9 95 79 41  3 23 25 80]\n",
      "Data type:\tuint8\n",
      "Array shape:\t(10,)\n",
      "\n"
     ]
    }
   ],
   "source": [
    "age_in_years = age_in_years.astype(np.uint8)\n",
    "array_info(age_in_years)"
   ]
  },
  {
   "cell_type": "markdown",
   "metadata": {},
   "source": [
    "Let's convert it to `float128`. 😜"
   ]
  },
  {
   "cell_type": "code",
   "execution_count": 35,
   "metadata": {},
   "outputs": [
    {
     "name": "stdout",
     "output_type": "stream",
     "text": [
      "Array:\n",
      "[39. 59.  9. 95. 79. 41.  3. 23. 25. 80.]\n",
      "Data type:\tfloat64\n",
      "Array shape:\t(10,)\n",
      "\n"
     ]
    }
   ],
   "source": [
    "#age_in_years = age_in_years.astype(np.float128)\n",
    "# np.float128 does not exist on evry pltform\n",
    "age_in_years = age_in_years.astype(np.float64)\n",
    "array_info(age_in_years)"
   ]
  },
  {
   "cell_type": "markdown",
   "metadata": {},
   "source": [
    "## <font color='blue'>2. Mathematical functions </font>\n",
    "\n",
    "Numpy supports a lot of Mathematical operations with array/matrix. Here we will see a few of them which are useful in Deep Learning. All supported functions can be found [here](https://docs.scipy.org/doc/numpy-1.13.0/reference/routines.math.html)."
   ]
  },
  {
   "cell_type": "markdown",
   "metadata": {},
   "source": [
    "### <font style=\"color:rgb(8,133,37)\">2.1. Exponential Function </font>\n",
    "Exponential functions ( also called `exp` ) are used in neural networks as activations functions. They are used in softmax functions which is widely used in Classification tasks.\n",
    "\n",
    "Return element-wise `exponential` of `array`.\n",
    "\n",
    "More details of `np.exp` can be found **[here](https://docs.scipy.org/doc/numpy-1.13.0/reference/generated/numpy.exp.html#numpy.exp)**"
   ]
  },
  {
   "cell_type": "code",
   "execution_count": 36,
   "metadata": {},
   "outputs": [
    {
     "name": "stdout",
     "output_type": "stream",
     "text": [
      "Array:\n",
      "[[-1. -1. -1.]\n",
      " [ 0.  0.  0.]\n",
      " [ 1.  1.  1.]]\n",
      "Data type:\tfloat64\n",
      "Array shape:\t(3, 3)\n",
      "\n",
      "Exponential of an array:\n",
      "Array:\n",
      "[[0.36787944 0.36787944 0.36787944]\n",
      " [1.         1.         1.        ]\n",
      " [2.71828183 2.71828183 2.71828183]]\n",
      "Data type:\tfloat64\n",
      "Array shape:\t(3, 3)\n",
      "\n"
     ]
    }
   ],
   "source": [
    "array = np.array([np.full(3, -1), np.zeros(3), np.ones(3)])\n",
    "array_info(array)\n",
    "\n",
    "# exponential of a array/matrix\n",
    "print('Exponential of an array:')\n",
    "exp_array = np.exp(array)\n",
    "array_info(exp_array)"
   ]
  },
  {
   "cell_type": "markdown",
   "metadata": {},
   "source": [
    "### <font style=\"color:rgb(8,133,37)\">2.2. Square Root </font>\n",
    "\n",
    "`np.sqrt` return the element-wise `square-root` (`non-negative`) of an array.\n",
    "\n",
    "More details of the function can be found [here](https://docs.scipy.org/doc/numpy/reference/generated/numpy.sqrt.html)\n",
    "\n",
    "`Root Mean Square Error` (`RMSE`) and `Mean Absolute Error` (`MAE`) commonly used to measure the `accuracy` of continuous variables."
   ]
  },
  {
   "cell_type": "code",
   "execution_count": 37,
   "metadata": {},
   "outputs": [
    {
     "name": "stdout",
     "output_type": "stream",
     "text": [
      "Array:\n",
      "[0 1 2 3 4 5 6 7 8 9]\n",
      "Data type:\tint32\n",
      "Array shape:\t(10,)\n",
      "\n",
      "Square root:\n",
      "Array:\n",
      "[0.         1.         1.41421356 1.73205081 2.         2.23606798\n",
      " 2.44948974 2.64575131 2.82842712 3.        ]\n",
      "Data type:\tfloat64\n",
      "Array shape:\t(10,)\n",
      "\n"
     ]
    }
   ],
   "source": [
    "array = np.arange(10)\n",
    "array_info(array)\n",
    "\n",
    "print('Square root:')\n",
    "root_array = np.sqrt(array)\n",
    "array_info(root_array)"
   ]
  },
  {
   "cell_type": "markdown",
   "metadata": {},
   "source": [
    "### <font style=\"color:rgb(8,133,37)\">2.3. Logrithm </font>\n",
    "\n",
    "`np.log` return element-wise natural logrithm of an array.\n",
    "\n",
    "More details of the function can be found [here](https://docs.scipy.org/doc/numpy/reference/generated/numpy.log.html)\n",
    "\n",
    "`Cross-Entropy` / `log loss` is the most commonly used loss in Machine Learning classification problem. "
   ]
  },
  {
   "cell_type": "code",
   "execution_count": 38,
   "metadata": {},
   "outputs": [
    {
     "name": "stdout",
     "output_type": "stream",
     "text": [
      "Array:\n",
      "[ 0.          2.71828183  7.3890561   1.         10.        ]\n",
      "Data type:\tfloat64\n",
      "Array shape:\t(5,)\n",
      "\n",
      "Logrithm:\n",
      "Array:\n",
      "[      -inf 1.         2.         0.         2.30258509]\n",
      "Data type:\tfloat64\n",
      "Array shape:\t(5,)\n",
      "\n"
     ]
    },
    {
     "name": "stderr",
     "output_type": "stream",
     "text": [
      "C:\\Users\\dirk.adler\\AppData\\Local\\Temp\\ipykernel_26680\\4157081557.py:5: RuntimeWarning: divide by zero encountered in log\n",
      "  log_array = np.log(array)\n"
     ]
    }
   ],
   "source": [
    "array = np.array([0, np.e, np.e**2, 1, 10])\n",
    "array_info(array)\n",
    "\n",
    "print('Logrithm:')\n",
    "log_array = np.log(array)\n",
    "array_info(log_array)"
   ]
  },
  {
   "cell_type": "markdown",
   "metadata": {},
   "source": [
    "<font color='red'>**Note:** Getting warning because we are trying to calculate `log(0)`.</font>"
   ]
  },
  {
   "cell_type": "markdown",
   "metadata": {},
   "source": [
    "### <font style=\"color:rgb(8,133,37)\">2.4. Power </font>\n",
    "\n",
    "`numpy.power(x1, x2)`\n",
    "\n",
    "Returns first array elements raised to powers from second array, element-wise.\n",
    "\n",
    "Second array must be broadcastable to first array.\n",
    "\n",
    "What is **broadcasting**? We will see later.\n",
    "\n",
    "More detalis about the function can be found [here](https://docs.scipy.org/doc/numpy/reference/generated/numpy.power.html)"
   ]
  },
  {
   "cell_type": "code",
   "execution_count": 39,
   "metadata": {},
   "outputs": [
    {
     "name": "stdout",
     "output_type": "stream",
     "text": [
      "Array:\n",
      "[0 1 2 3 4 5]\n",
      "Data type:\tint64\n",
      "Array shape:\t(6,)\n",
      "\n",
      "Power 3:\n",
      "Array:\n",
      "[  0   1   8  27  64 125]\n",
      "Data type:\tint64\n",
      "Array shape:\t(6,)\n",
      "\n"
     ]
    }
   ],
   "source": [
    "array = np.arange(0, 6, dtype=np.int64)\n",
    "array_info(array)\n",
    "\n",
    "print('Power 3:')\n",
    "pow_array = np.power(array, 3)\n",
    "array_info(pow_array)"
   ]
  },
  {
   "cell_type": "markdown",
   "metadata": {},
   "source": [
    "### <font style=\"color:rgb(8,133,37)\">2.5. Clip Values </font>\n",
    "\n",
    "`np.clip(a, a_min, a_max)`\n",
    "\n",
    "Return element-wise cliped values between `a_min` and `a_max`.\n",
    "\n",
    "More details of the finction can be found [here](https://docs.scipy.org/doc/numpy/reference/generated/numpy.clip.html)\n",
    "\n",
    "`Rectified Linear Unit` (`ReLU`) is the most commonly used activation function in Deep Learning.\n",
    "\n",
    "What ReLU do?\n",
    "\n",
    "If the value is less than zero, it makes it zero otherwise leave as it is. In NumPy assignment will be implementing this activation function using NumPy."
   ]
  },
  {
   "cell_type": "code",
   "execution_count": 40,
   "metadata": {},
   "outputs": [
    {
     "name": "stdout",
     "output_type": "stream",
     "text": [
      "Array:\n",
      "[[0.56940753 0.18784188 0.97654255]\n",
      " [0.69264072 0.98252229 0.47088311]\n",
      " [0.00376439 0.89282581 0.75277469]]\n",
      "Data type:\tfloat64\n",
      "Array shape:\t(3, 3)\n",
      "\n",
      "Clipped between 0.2 and 0.5\n",
      "Array:\n",
      "[[0.5        0.2        0.5       ]\n",
      " [0.5        0.5        0.47088311]\n",
      " [0.2        0.5        0.5       ]]\n",
      "Data type:\tfloat64\n",
      "Array shape:\t(3, 3)\n",
      "\n",
      "Clipped to 0.2\n",
      "Array:\n",
      "[[0.56940753 0.2        0.97654255]\n",
      " [0.69264072 0.98252229 0.47088311]\n",
      " [0.2        0.89282581 0.75277469]]\n",
      "Data type:\tfloat64\n",
      "Array shape:\t(3, 3)\n",
      "\n"
     ]
    }
   ],
   "source": [
    "array = np.random.random((3, 3))\n",
    "array_info(array)\n",
    "\n",
    "# clipped between 0.2 and 0.5\n",
    "print('Clipped between 0.2 and 0.5')\n",
    "cliped_array = np.clip(array, 0.2, 0.5)\n",
    "array_info(cliped_array)\n",
    "\n",
    "# clipped to 0.2\n",
    "print('Clipped to 0.2')\n",
    "cliped_array = np.clip(array, 0.2, np.inf)\n",
    "array_info(cliped_array)"
   ]
  },
  {
   "cell_type": "markdown",
   "metadata": {},
   "source": [
    "## <font color='blue'>3. Reshape ndarray </font>\n",
    "\n",
    "Reshaping the array / matrix is very often required in Machine Learning and Computer vision. "
   ]
  },
  {
   "cell_type": "markdown",
   "metadata": {},
   "source": [
    "### <font style=\"color:rgb(8,133,37)\">3.1. Reshape </font>\n",
    "\n",
    "`np.reshape` gives an array in new shape, without changing its data.\n",
    "\n",
    "More details of the function can be found [here](https://docs.scipy.org/doc/numpy/reference/generated/numpy.reshape.html)"
   ]
  },
  {
   "cell_type": "code",
   "execution_count": 42,
   "metadata": {},
   "outputs": [
    {
     "name": "stdout",
     "output_type": "stream",
     "text": [
      "Array:\n",
      "[1 2 3 4 5 6 7 8 9]\n",
      "Data type:\tint32\n",
      "Array shape:\t(9,)\n",
      "\n",
      "Reshape to 3x3:\n",
      "Array:\n",
      "[[1 2 3]\n",
      " [4 5 6]\n",
      " [7 8 9]]\n",
      "Data type:\tint32\n",
      "Array shape:\t(3, 3)\n",
      "\n",
      "Reshape 3x3 to 3x3x1:\n",
      "Array:\n",
      "[[[1]\n",
      "  [2]\n",
      "  [3]]\n",
      "\n",
      " [[4]\n",
      "  [5]\n",
      "  [6]]\n",
      "\n",
      " [[7]\n",
      "  [8]\n",
      "  [9]]]\n",
      "Data type:\tint32\n",
      "Array shape:\t(3, 3, 1)\n",
      "\n"
     ]
    }
   ],
   "source": [
    "a = np.arange(1, 10, dtype=np.int32)\n",
    "array_info(a)\n",
    "\n",
    "print('Reshape to 3x3:')\n",
    "a_3x3 = a.reshape(3, 3)\n",
    "array_info(a_3x3)\n",
    "\n",
    "print('Reshape 3x3 to 3x3x1:')\n",
    "a_3x3x1 = a_3x3.reshape(3, 3, 1)\n",
    "array_info(a_3x3x1)"
   ]
  },
  {
   "cell_type": "markdown",
   "metadata": {},
   "source": [
    "### <font style=\"color:rgb(8,133,37)\">3.2. Expand Dim </font>\n",
    "\n",
    "`np.expand_dims`\n",
    "\n",
    "In the last reshape, we have added a new axis. We can use `np.expand_dims` or `np.newaxis` to do the same thing.\n",
    "\n",
    "Mode details for `np.expand_dim` can be found [here](https://docs.scipy.org/doc/numpy/reference/generated/numpy.expand_dims.html)"
   ]
  },
  {
   "cell_type": "code",
   "execution_count": 45,
   "metadata": {},
   "outputs": [
    {
     "name": "stdout",
     "output_type": "stream",
     "text": [
      "Using np.expand_dims:\n",
      "Array:\n",
      "[[[1]\n",
      "  [2]\n",
      "  [3]]\n",
      "\n",
      " [[4]\n",
      "  [5]\n",
      "  [6]]\n",
      "\n",
      " [[7]\n",
      "  [8]\n",
      "  [9]]]\n",
      "Data type:\tint32\n",
      "Array shape:\t(3, 3, 1)\n",
      "\n",
      "Using np.newaxis:\n",
      "Array:\n",
      "[[[1]\n",
      "  [2]\n",
      "  [3]]\n",
      "\n",
      " [[4]\n",
      "  [5]\n",
      "  [6]]\n",
      "\n",
      " [[7]\n",
      "  [8]\n",
      "  [9]]]\n",
      "Data type:\tint32\n",
      "Array shape:\t(3, 3, 1)\n",
      "\n"
     ]
    }
   ],
   "source": [
    "print('Using np.expand_dims:')\n",
    "a_expand = np.expand_dims(a_3x3, axis=2)\n",
    "array_info(a_expand)\n",
    "\n",
    "print('Using np.newaxis:')\n",
    "a_newaxis = a_3x3[..., np.newaxis]\n",
    "# or \n",
    "# a_newaxis = a_3x3[:, :, np.newaxis]\n",
    "array_info(a_newaxis)"
   ]
  },
  {
   "cell_type": "markdown",
   "metadata": {},
   "source": [
    "### <font style=\"color:rgb(8,133,37)\">3.3. Squeeze </font>\n",
    "\n",
    "Sometimes we need to remove the redundant axis (single-dimensional entries). We can use `np.squeeze` to do this.\n",
    "\n",
    "More details of `np.squeeze` can be found [here](https://docs.scipy.org/doc/numpy/reference/generated/numpy.squeeze.html)\n",
    "\n",
    "Deep Learning very often uses this functionality."
   ]
  },
  {
   "cell_type": "code",
   "execution_count": 46,
   "metadata": {},
   "outputs": [
    {
     "name": "stdout",
     "output_type": "stream",
     "text": [
      "Squeeze along axis=2:\n",
      "Array:\n",
      "[[1 2 3]\n",
      " [4 5 6]\n",
      " [7 8 9]]\n",
      "Data type:\tint32\n",
      "Array shape:\t(3, 3)\n",
      "\n",
      "Squeeze along axis=1, should get ValueError\n"
     ]
    },
    {
     "ename": "ValueError",
     "evalue": "cannot select an axis to squeeze out which has size not equal to one",
     "output_type": "error",
     "traceback": [
      "\u001b[1;31m---------------------------------------------------------------------------\u001b[0m",
      "\u001b[1;31mValueError\u001b[0m                                Traceback (most recent call last)",
      "Cell \u001b[1;32mIn[46], line 7\u001b[0m\n\u001b[0;32m      5\u001b[0m \u001b[38;5;66;03m# should get value error\u001b[39;00m\n\u001b[0;32m      6\u001b[0m \u001b[38;5;28mprint\u001b[39m(\u001b[38;5;124m'\u001b[39m\u001b[38;5;124mSqueeze along axis=1, should get ValueError\u001b[39m\u001b[38;5;124m'\u001b[39m)\n\u001b[1;32m----> 7\u001b[0m a_squeezed_error \u001b[38;5;241m=\u001b[39m \u001b[43mnp\u001b[49m\u001b[38;5;241;43m.\u001b[39;49m\u001b[43msqueeze\u001b[49m\u001b[43m(\u001b[49m\u001b[43ma_newaxis\u001b[49m\u001b[43m,\u001b[49m\u001b[43m \u001b[49m\u001b[43maxis\u001b[49m\u001b[38;5;241;43m=\u001b[39;49m\u001b[38;5;241;43m1\u001b[39;49m\u001b[43m)\u001b[49m\n",
      "File \u001b[1;32m<__array_function__ internals>:200\u001b[0m, in \u001b[0;36msqueeze\u001b[1;34m(*args, **kwargs)\u001b[0m\n",
      "File \u001b[1;32mc:\\Users\\dirk.adler\\AppData\\Local\\anaconda3\\envs\\tensorflow\\lib\\site-packages\\numpy\\core\\fromnumeric.py:1571\u001b[0m, in \u001b[0;36msqueeze\u001b[1;34m(a, axis)\u001b[0m\n\u001b[0;32m   1569\u001b[0m     \u001b[38;5;28;01mreturn\u001b[39;00m squeeze()\n\u001b[0;32m   1570\u001b[0m \u001b[38;5;28;01melse\u001b[39;00m:\n\u001b[1;32m-> 1571\u001b[0m     \u001b[38;5;28;01mreturn\u001b[39;00m \u001b[43msqueeze\u001b[49m\u001b[43m(\u001b[49m\u001b[43maxis\u001b[49m\u001b[38;5;241;43m=\u001b[39;49m\u001b[43maxis\u001b[49m\u001b[43m)\u001b[49m\n",
      "\u001b[1;31mValueError\u001b[0m: cannot select an axis to squeeze out which has size not equal to one"
     ]
    }
   ],
   "source": [
    "print('Squeeze along axis=2:')\n",
    "a_squeezed = np.squeeze(a_newaxis, axis=2)\n",
    "array_info(a_squeezed)\n",
    "\n",
    "# should get value error\n",
    "print('Squeeze along axis=1, should get ValueError')\n",
    "a_squeezed_error = np.squeeze(a_newaxis, axis=1)  # Getting error because of the size of \n",
    "                                                  # axis-1 is not equal to one."
   ]
  },
  {
   "cell_type": "markdown",
   "metadata": {},
   "source": [
    "<font color='red'>**Note:** Getting error because of the size of axis-1 is not equal to one.</font>"
   ]
  },
  {
   "cell_type": "markdown",
   "metadata": {},
   "source": [
    "### <font style=\"color:rgb(8,133,37)\">3.4. Reshape revisit </font>\n",
    "\n",
    "We have a 1-d array of length n. We want to reshape in a 2-d array such that the number of columns becomes two, and we do not care about the number of rows. "
   ]
  },
  {
   "cell_type": "code",
   "execution_count": 47,
   "metadata": {},
   "outputs": [
    {
     "name": "stdout",
     "output_type": "stream",
     "text": [
      "Array:\n",
      "[0 1 2 3 4 5 6 7 8 9]\n",
      "Data type:\tint32\n",
      "Array shape:\t(10,)\n",
      "\n",
      "Reshape such that number of column is 2:\n",
      "Array:\n",
      "[[0 1]\n",
      " [2 3]\n",
      " [4 5]\n",
      " [6 7]\n",
      " [8 9]]\n",
      "Data type:\tint32\n",
      "Array shape:\t(5, 2)\n",
      "\n"
     ]
    }
   ],
   "source": [
    "a = np.arange(10)\n",
    "array_info(a)\n",
    "\n",
    "print('Reshape such that number of column is 2:')\n",
    "a_col_2 = a.reshape(-1, 2)\n",
    "array_info(a_col_2)"
   ]
  },
  {
   "cell_type": "markdown",
   "metadata": {},
   "source": [
    "## <font color='blue'>4. Combine Arrays / Matrix </font>\n",
    "\n",
    "Combining two or more arrays is a frequent operation in machine learning. Let's have a look at a few methods. \n"
   ]
  },
  {
   "cell_type": "markdown",
   "metadata": {},
   "source": [
    "### <font style=\"color:rgb(8,133,37)\">4.1. Concatenate </font>\n",
    "\n",
    "`np.concatenate`, Join a sequence of arrays along an existing axis.\n",
    "\n",
    "More details of the function find [here](https://docs.scipy.org/doc/numpy/reference/generated/numpy.concatenate.html)"
   ]
  },
  {
   "cell_type": "code",
   "execution_count": 48,
   "metadata": {},
   "outputs": [
    {
     "name": "stdout",
     "output_type": "stream",
     "text": [
      "Concatenate along axis zero:\n",
      "Array:\n",
      "[[1 2 3]\n",
      " [4 5 6]\n",
      " [7 8 9]]\n",
      "Data type:\tint32\n",
      "Array shape:\t(3, 3)\n",
      "\n"
     ]
    }
   ],
   "source": [
    "a1 = np.array([[1, 2, 3], [4, 5, 6]])\n",
    "a2 = np.array([[7, 8, 9]])\n",
    "\n",
    "print('Concatenate along axis zero:')\n",
    "array = np.concatenate((a1, a2), axis=0)\n",
    "array_info(array)"
   ]
  },
  {
   "cell_type": "markdown",
   "metadata": {},
   "source": [
    "### <font style=\"color:rgb(8,133,37)\">4.2. hstack </font>\n",
    "\n",
    "`np.hstack`, stack arrays in sequence horizontally (column-wise).\n",
    "\n",
    "More details of the function find [here](https://docs.scipy.org/doc/numpy/reference/generated/numpy.hstack.html#numpy.hstack)"
   ]
  },
  {
   "cell_type": "code",
   "execution_count": 49,
   "metadata": {},
   "outputs": [
    {
     "name": "stdout",
     "output_type": "stream",
     "text": [
      "Horizontal stack:\n",
      "Array:\n",
      "[1 2 3 4 5 6]\n",
      "Data type:\tint32\n",
      "Array shape:\t(6,)\n",
      "\n"
     ]
    }
   ],
   "source": [
    "a1 = np.array((1, 2, 3))\n",
    "a2 = np.array((4, 5, 6))\n",
    "a_hstacked = np.hstack((a1,a2))\n",
    "\n",
    "print('Horizontal stack:')\n",
    "array_info(a_hstacked)"
   ]
  },
  {
   "cell_type": "code",
   "execution_count": 50,
   "metadata": {},
   "outputs": [
    {
     "name": "stdout",
     "output_type": "stream",
     "text": [
      "Horizontal stack:\n",
      "Array:\n",
      "[[1 4]\n",
      " [2 5]\n",
      " [3 6]]\n",
      "Data type:\tint32\n",
      "Array shape:\t(3, 2)\n",
      "\n"
     ]
    }
   ],
   "source": [
    "a1 = np.array([[1],[2],[3]])\n",
    "a2 = np.array([[4],[5],[6]])\n",
    "a_hstacked = np.hstack((a1,a2))\n",
    "\n",
    "print('Horizontal stack:')\n",
    "array_info(a_hstacked)"
   ]
  },
  {
   "cell_type": "markdown",
   "metadata": {},
   "source": [
    "### <font style=\"color:rgb(8,133,37)\">4.3. vstack </font>\n",
    "\n",
    "`np.vstack`, tack arrays in sequence vertically (row-wise).\n",
    "\n",
    "More details of the function find [here](https://docs.scipy.org/doc/numpy/reference/generated/numpy.vstack.html#numpy.vstack)"
   ]
  },
  {
   "cell_type": "code",
   "execution_count": 51,
   "metadata": {},
   "outputs": [
    {
     "name": "stdout",
     "output_type": "stream",
     "text": [
      "Vertical stack:\n",
      "Array:\n",
      "[[1 2 3]\n",
      " [4 5 6]]\n",
      "Data type:\tint32\n",
      "Array shape:\t(2, 3)\n",
      "\n"
     ]
    }
   ],
   "source": [
    "a1 = np.array([1, 2, 3])\n",
    "a2 = np.array([4, 5, 6])\n",
    "a_vstacked = np.vstack((a1, a2))\n",
    "\n",
    "print('Vertical stack:')\n",
    "array_info(a_vstacked)"
   ]
  },
  {
   "cell_type": "code",
   "execution_count": 52,
   "metadata": {},
   "outputs": [
    {
     "name": "stdout",
     "output_type": "stream",
     "text": [
      "Vertical stack:\n",
      "Array:\n",
      "[[ 1 11]\n",
      " [ 2 22]\n",
      " [ 3 33]\n",
      " [ 4 44]\n",
      " [ 5 55]\n",
      " [ 6 66]]\n",
      "Data type:\tint32\n",
      "Array shape:\t(6, 2)\n",
      "\n"
     ]
    }
   ],
   "source": [
    "a1 = np.array([[1, 11], [2, 22], [3, 33]])\n",
    "a2 = np.array([[4, 44], [5, 55], [6, 66]])\n",
    "a_vstacked = np.vstack((a1, a2))\n",
    "\n",
    "print('Vertical stack:')\n",
    "array_info(a_vstacked)"
   ]
  },
  {
   "cell_type": "markdown",
   "metadata": {},
   "source": [
    "## <font color='blue'>5. Element wise Operations </font>\n"
   ]
  },
  {
   "cell_type": "markdown",
   "metadata": {},
   "source": [
    "Let's generate a random number to show element-wise operations. "
   ]
  },
  {
   "cell_type": "code",
   "execution_count": 53,
   "metadata": {},
   "outputs": [
    {
     "name": "stdout",
     "output_type": "stream",
     "text": [
      "Array:\n",
      "[[0.81059164 0.84104386 0.09342736 0.09226519]\n",
      " [0.42155752 0.66716456 0.20727267 0.2732982 ]\n",
      " [0.82309643 0.56100381 0.37170115 0.11820833]\n",
      " [0.4763084  0.99042265 0.11262988 0.09918805]]\n",
      "Data type:\tfloat64\n",
      "Array shape:\t(4, 4)\n",
      "\n",
      "Array:\n",
      "[[0.03198416 0.43449808 0.83081495 0.93093602]\n",
      " [0.83179543 0.55107657 0.84603349 0.9413273 ]\n",
      " [0.91806258 0.00834788 0.6925048  0.15916003]\n",
      " [0.66860084 0.89464933 0.85490285 0.9490448 ]]\n",
      "Data type:\tfloat64\n",
      "Array shape:\t(4, 4)\n",
      "\n"
     ]
    }
   ],
   "source": [
    "a = np.random.random((4,4))\n",
    "b = np.random.random((4,4))\n",
    "array_info(a)\n",
    "array_info(b)"
   ]
  },
  {
   "cell_type": "markdown",
   "metadata": {},
   "source": [
    "### <font style=\"color:rgb(8,133,37)\">5.1. Element wise Scalar Operation </font>"
   ]
  },
  {
   "cell_type": "markdown",
   "metadata": {},
   "source": [
    "**Scalar Addition**"
   ]
  },
  {
   "cell_type": "code",
   "execution_count": 54,
   "metadata": {},
   "outputs": [
    {
     "data": {
      "text/plain": [
       "array([[5.81059164, 5.84104386, 5.09342736, 5.09226519],\n",
       "       [5.42155752, 5.66716456, 5.20727267, 5.2732982 ],\n",
       "       [5.82309643, 5.56100381, 5.37170115, 5.11820833],\n",
       "       [5.4763084 , 5.99042265, 5.11262988, 5.09918805]])"
      ]
     },
     "execution_count": 54,
     "metadata": {},
     "output_type": "execute_result"
    }
   ],
   "source": [
    "a + 5 # element wise scalar addition"
   ]
  },
  {
   "cell_type": "markdown",
   "metadata": {},
   "source": [
    "**Scalar Subtraction**"
   ]
  },
  {
   "cell_type": "code",
   "execution_count": 55,
   "metadata": {},
   "outputs": [
    {
     "data": {
      "text/plain": [
       "array([[-4.18940836, -4.15895614, -4.90657264, -4.90773481],\n",
       "       [-4.57844248, -4.33283544, -4.79272733, -4.7267018 ],\n",
       "       [-4.17690357, -4.43899619, -4.62829885, -4.88179167],\n",
       "       [-4.5236916 , -4.00957735, -4.88737012, -4.90081195]])"
      ]
     },
     "execution_count": 55,
     "metadata": {},
     "output_type": "execute_result"
    }
   ],
   "source": [
    "a - 5 # element wise scalar subtraction"
   ]
  },
  {
   "cell_type": "markdown",
   "metadata": {},
   "source": [
    "**Scalar Multiplication**"
   ]
  },
  {
   "cell_type": "code",
   "execution_count": 56,
   "metadata": {},
   "outputs": [
    {
     "data": {
      "text/plain": [
       "array([[8.1059164 , 8.41043864, 0.93427362, 0.92265191],\n",
       "       [4.21557518, 6.67164559, 2.07272675, 2.73298202],\n",
       "       [8.23096435, 5.61003809, 3.71701151, 1.18208335],\n",
       "       [4.76308397, 9.90422654, 1.12629879, 0.99188054]])"
      ]
     },
     "execution_count": 56,
     "metadata": {},
     "output_type": "execute_result"
    }
   ],
   "source": [
    "a * 10 # element wise scalar multiplication"
   ]
  },
  {
   "cell_type": "markdown",
   "metadata": {},
   "source": [
    "**Scalar Division**"
   ]
  },
  {
   "cell_type": "code",
   "execution_count": 57,
   "metadata": {},
   "outputs": [
    {
     "data": {
      "text/plain": [
       "array([[0.08105916, 0.08410439, 0.00934274, 0.00922652],\n",
       "       [0.04215575, 0.06671646, 0.02072727, 0.02732982],\n",
       "       [0.08230964, 0.05610038, 0.03717012, 0.01182083],\n",
       "       [0.04763084, 0.09904227, 0.01126299, 0.00991881]])"
      ]
     },
     "execution_count": 57,
     "metadata": {},
     "output_type": "execute_result"
    }
   ],
   "source": [
    "a/10 # element wise scalar division"
   ]
  },
  {
   "cell_type": "markdown",
   "metadata": {},
   "source": [
    "### <font style=\"color:rgb(8,133,37)\">5.2. Element wise Array Operations </font>"
   ]
  },
  {
   "cell_type": "markdown",
   "metadata": {},
   "source": [
    "**Arrays Addition**"
   ]
  },
  {
   "cell_type": "code",
   "execution_count": 58,
   "metadata": {},
   "outputs": [
    {
     "data": {
      "text/plain": [
       "array([[0.8425758 , 1.27554194, 0.92424232, 1.02320121],\n",
       "       [1.25335294, 1.21824113, 1.05330616, 1.2146255 ],\n",
       "       [1.74115902, 0.56935169, 1.06420595, 0.27736837],\n",
       "       [1.14490923, 1.88507199, 0.96753272, 1.04823286]])"
      ]
     },
     "execution_count": 58,
     "metadata": {},
     "output_type": "execute_result"
    }
   ],
   "source": [
    "a + b # element wise array/vector addition"
   ]
  },
  {
   "cell_type": "markdown",
   "metadata": {},
   "source": [
    "**Arrays Subtraction**"
   ]
  },
  {
   "cell_type": "code",
   "execution_count": 59,
   "metadata": {},
   "outputs": [
    {
     "data": {
      "text/plain": [
       "array([[ 0.77860748,  0.40654579, -0.73738759, -0.83867083],\n",
       "       [-0.41023791,  0.11608799, -0.63876081, -0.66802909],\n",
       "       [-0.09496615,  0.55265593, -0.32080365, -0.0409517 ],\n",
       "       [-0.19229244,  0.09577332, -0.74227297, -0.84985675]])"
      ]
     },
     "execution_count": 59,
     "metadata": {},
     "output_type": "execute_result"
    }
   ],
   "source": [
    "a - b # element wise array/vector subtraction"
   ]
  },
  {
   "cell_type": "markdown",
   "metadata": {},
   "source": [
    "**Arrays Multiplication**"
   ]
  },
  {
   "cell_type": "code",
   "execution_count": 60,
   "metadata": {},
   "outputs": [
    {
     "data": {
      "text/plain": [
       "array([[0.02592609, 0.36543194, 0.07762085, 0.08589299],\n",
       "       [0.35064962, 0.36765876, 0.17535962, 0.25726306],\n",
       "       [0.75565404, 0.00468319, 0.25740483, 0.01881404],\n",
       "       [0.31846019, 0.88608097, 0.0962876 , 0.09413391]])"
      ]
     },
     "execution_count": 60,
     "metadata": {},
     "output_type": "execute_result"
    }
   ],
   "source": [
    "a * b # element wise array/vector multiplication"
   ]
  },
  {
   "cell_type": "markdown",
   "metadata": {},
   "source": [
    "**Arrays Division**"
   ]
  },
  {
   "cell_type": "code",
   "execution_count": 61,
   "metadata": {},
   "outputs": [
    {
     "data": {
      "text/plain": [
       "array([[25.34353591,  1.93566764,  0.11245267,  0.09911013],\n",
       "       [ 0.50680432,  1.21065673,  0.24499346,  0.29033281],\n",
       "       [ 0.89655809, 67.20315286,  0.53674884,  0.74270111],\n",
       "       [ 0.71239575,  1.10705124,  0.13174582,  0.10451356]])"
      ]
     },
     "execution_count": 61,
     "metadata": {},
     "output_type": "execute_result"
    }
   ],
   "source": [
    "a / b # element wise array/vector division"
   ]
  },
  {
   "cell_type": "markdown",
   "metadata": {},
   "source": [
    "We can notice that the dimension of both arrays is equal in above arrays element-wise operations. **What if dimensions are not equal.** Let's check!!"
   ]
  },
  {
   "cell_type": "code",
   "execution_count": 62,
   "metadata": {},
   "outputs": [
    {
     "name": "stdout",
     "output_type": "stream",
     "text": [
      "Array \"a\":\n",
      "Array:\n",
      "[[0.81059164 0.84104386 0.09342736 0.09226519]\n",
      " [0.42155752 0.66716456 0.20727267 0.2732982 ]\n",
      " [0.82309643 0.56100381 0.37170115 0.11820833]\n",
      " [0.4763084  0.99042265 0.11262988 0.09918805]]\n",
      "Data type:\tfloat64\n",
      "Array shape:\t(4, 4)\n",
      "\n",
      "Array \"c\":\n",
      "Array:\n",
      "[[0.90081117 0.21933611]\n",
      " [0.13022913 0.9986499 ]]\n",
      "Data type:\tfloat64\n",
      "Array shape:\t(2, 2)\n",
      "\n"
     ]
    },
    {
     "ename": "ValueError",
     "evalue": "operands could not be broadcast together with shapes (4,4) (2,2) ",
     "output_type": "error",
     "traceback": [
      "\u001b[1;31m---------------------------------------------------------------------------\u001b[0m",
      "\u001b[1;31mValueError\u001b[0m                                Traceback (most recent call last)",
      "Cell \u001b[1;32mIn[62], line 7\u001b[0m\n\u001b[0;32m      5\u001b[0m array_info(c)\n\u001b[0;32m      6\u001b[0m \u001b[38;5;66;03m# Should throw ValueError\u001b[39;00m\n\u001b[1;32m----> 7\u001b[0m \u001b[43ma\u001b[49m\u001b[43m \u001b[49m\u001b[38;5;241;43m+\u001b[39;49m\u001b[43m \u001b[49m\u001b[43mc\u001b[49m\n",
      "\u001b[1;31mValueError\u001b[0m: operands could not be broadcast together with shapes (4,4) (2,2) "
     ]
    }
   ],
   "source": [
    "print('Array \"a\":')\n",
    "array_info(a)\n",
    "print('Array \"c\":')\n",
    "c = np.random.rand(2, 2)\n",
    "array_info(c)\n",
    "# Should throw ValueError\n",
    "a + c"
   ]
  },
  {
   "cell_type": "markdown",
   "metadata": {},
   "source": [
    "<font color='red'>**Oh got the ValueError!!**</font>\n",
    "\n",
    "What is this error?\n",
    "\n",
    "<font color='red'>ValueError</font>: operands could not be broadcast together with shapes `(4,4)` `(2,2)` \n",
    "\n",
    "**Let's see it next.**\n"
   ]
  },
  {
   "cell_type": "markdown",
   "metadata": {},
   "source": [
    "### <font style=\"color:rgb(8,133,37)\">5.3. Broadcasting </font>\n",
    "\n",
    "There is a concept of broadcasting in NumPy, which tries to copy rows or columns in the lower-dimensional array to make an equal dimensional array of higher-dimensional array. \n",
    "\n",
    "Let's try to understand with a simple example."
   ]
  },
  {
   "cell_type": "code",
   "execution_count": 63,
   "metadata": {},
   "outputs": [
    {
     "name": "stdout",
     "output_type": "stream",
     "text": [
      "Array \"a\":\n",
      "Array:\n",
      "[[1 2 3]\n",
      " [4 5 6]\n",
      " [7 8 9]]\n",
      "Data type:\tint32\n",
      "Array shape:\t(3, 3)\n",
      "\n",
      "Array \"b\":\n",
      "Array:\n",
      "[0 1 0]\n",
      "Data type:\tint32\n",
      "Array shape:\t(3,)\n",
      "\n",
      "Array \"a+b\":\n",
      "Array:\n",
      "[[1 3 3]\n",
      " [4 6 6]\n",
      " [7 9 9]]\n",
      "Data type:\tint32\n",
      "Array shape:\t(3, 3)\n",
      "\n"
     ]
    }
   ],
   "source": [
    "a = np.array([[1, 2, 3], [4, 5, 6],[7, 8, 9]])\n",
    "b = np.array([0, 1, 0])\n",
    "\n",
    "print('Array \"a\":')\n",
    "array_info(a)\n",
    "print('Array \"b\":')\n",
    "array_info(b)\n",
    "\n",
    "print('Array \"a+b\":')\n",
    "array_info(a+b)  # b is reshaped such that it can be added to a.\n",
    "\n",
    "\n",
    "# b = [0,1,0] is broadcasted to     [[0, 1, 0],\n",
    "#                                    [0, 1, 0],\n",
    "#                                    [0, 1, 0]]  and added to a."
   ]
  },
  {
   "cell_type": "markdown",
   "metadata": {},
   "source": [
    "## <font color='blue'>6. Linear Algebra</font>\n",
    "\n",
    "Here we see commonly use linear algebra operations in Machine Learning. "
   ]
  },
  {
   "cell_type": "markdown",
   "metadata": {},
   "source": [
    "### <font style=\"color:rgb(8,133,37)\">6.1. Transpose </font>"
   ]
  },
  {
   "cell_type": "code",
   "execution_count": 64,
   "metadata": {},
   "outputs": [
    {
     "name": "stdout",
     "output_type": "stream",
     "text": [
      "Array \"a\":\n",
      "Array:\n",
      "[[0.1584038  0.65449199 0.24521699]\n",
      " [0.46451473 0.63927062 0.18301445]]\n",
      "Data type:\tfloat64\n",
      "Array shape:\t(2, 3)\n",
      "\n",
      "Transose of \"a\":\n",
      "Array:\n",
      "[[0.1584038  0.46451473]\n",
      " [0.65449199 0.63927062]\n",
      " [0.24521699 0.18301445]]\n",
      "Data type:\tfloat64\n",
      "Array shape:\t(3, 2)\n",
      "\n"
     ]
    }
   ],
   "source": [
    "a = np.random.random((2,3))\n",
    "print('Array \"a\":')\n",
    "array_info(a)\n",
    "\n",
    "print('Transose of \"a\":')\n",
    "a_transpose = a.transpose()\n",
    "array_info(a_transpose)"
   ]
  },
  {
   "cell_type": "markdown",
   "metadata": {},
   "source": [
    "### <font style=\"color:rgb(8,133,37)\">6.2. Matrix Multiplication</font>\n",
    "We will discuss 2 ways of performing Matrix Multiplication.\n",
    "\n",
    "- `matmul`\n",
    "- Python `@` operator\n",
    "\n",
    "**Using matmul function in numpy**\n",
    "This is the most used approach for multiplying two matrices using Numpy. [See docs](https://docs.scipy.org/doc/numpy/reference/generated/numpy.matmul.html)"
   ]
  },
  {
   "cell_type": "code",
   "execution_count": 65,
   "metadata": {},
   "outputs": [
    {
     "name": "stdout",
     "output_type": "stream",
     "text": [
      "Array \"a\":\n",
      "Array:\n",
      "[[0.44234655 0.99450642 0.35874725 0.76551722]\n",
      " [0.60616386 0.44526261 0.18291577 0.42340247]\n",
      " [0.58520682 0.71855788 0.80055429 0.00646133]]\n",
      "Data type:\tfloat64\n",
      "Array shape:\t(3, 4)\n",
      "\n",
      "Array \"b\"\n",
      "Array:\n",
      "[[0.36895783 0.23502748]\n",
      " [0.37793504 0.9645494 ]\n",
      " [0.18838521 0.11582444]\n",
      " [0.03881258 0.19403859]]\n",
      "Data type:\tfloat64\n",
      "Array shape:\t(4, 2)\n",
      "\n",
      "matrix multiplication of a and b:\n",
      "Array:\n",
      "[[0.63636042 1.25330575]\n",
      " [0.44282121 0.67528549]\n",
      " [0.6385482  0.92460175]]\n",
      "Data type:\tfloat64\n",
      "Array shape:\t(3, 2)\n",
      "\n",
      "(3, 4) x (4, 2) --> (3, 2)\n"
     ]
    }
   ],
   "source": [
    "a = np.random.random((3, 4))\n",
    "b = np.random.random((4, 2))\n",
    "\n",
    "print('Array \"a\":')\n",
    "array_info(a)\n",
    "print('Array \"b\"')\n",
    "array_info(b)\n",
    "\n",
    "c = np.matmul(a,b) # matrix multiplication of a and b\n",
    "\n",
    "print('matrix multiplication of a and b:')\n",
    "array_info(c)\n",
    "\n",
    "print('{} x {} --> {}'.format(a.shape, b.shape, c.shape)) # dim1 of a and dim0 of b has to be \n",
    "                                                        # same for matrix multiplication"
   ]
  },
  {
   "cell_type": "markdown",
   "metadata": {},
   "source": [
    "**Using `@` operator**\n",
    "This method of multiplication was introduced in Python 3.5. [See docs](https://www.python.org/dev/peps/pep-0465/)"
   ]
  },
  {
   "cell_type": "code",
   "execution_count": 66,
   "metadata": {},
   "outputs": [
    {
     "name": "stdout",
     "output_type": "stream",
     "text": [
      "Array \"a\":\n",
      "Array:\n",
      "[[0.90026715 0.52177984 0.04367229 0.87980074]\n",
      " [0.06061312 0.54670002 0.95751339 0.60733548]\n",
      " [0.95090085 0.739711   0.46327953 0.54781146]]\n",
      "Data type:\tfloat64\n",
      "Array shape:\t(3, 4)\n",
      "\n",
      "Array \"b\"\n",
      "Array:\n",
      "[[0.08811296 0.83343823]\n",
      " [0.63903877 0.25191291]\n",
      " [0.31054861 0.84942234]\n",
      " [0.82664273 0.15662365]]\n",
      "Data type:\tfloat64\n",
      "Array shape:\t(4, 2)\n",
      "\n",
      "Array:\n",
      "[[1.15360601 1.05665395]\n",
      " [1.15410722 1.09669445]\n",
      " [1.15320587 1.45818008]]\n",
      "Data type:\tfloat64\n",
      "Array shape:\t(3, 2)\n",
      "\n"
     ]
    }
   ],
   "source": [
    "a = np.random.random((3, 4))\n",
    "b = np.random.random((4, 2))\n",
    "\n",
    "print('Array \"a\":')\n",
    "array_info(a)\n",
    "print('Array \"b\"')\n",
    "array_info(b)\n",
    "\n",
    "c = a@b # matrix multiplication of a and b\n",
    "array_info(c)"
   ]
  },
  {
   "cell_type": "markdown",
   "metadata": {},
   "source": [
    "### <font style=\"color:rgb(8,133,37)\">6.3. Inverse</font>"
   ]
  },
  {
   "cell_type": "code",
   "execution_count": 67,
   "metadata": {},
   "outputs": [
    {
     "name": "stdout",
     "output_type": "stream",
     "text": [
      "Array \"A\":\n",
      "Array:\n",
      "[[0.82077166 0.03626608 0.02276973]\n",
      " [0.04839408 0.51816425 0.59151439]\n",
      " [0.15018937 0.54652049 0.31569122]]\n",
      "Data type:\tfloat64\n",
      "Array shape:\t(3, 3)\n",
      "\n",
      "Inverse of \"A\" (\"A_inverse\"):\n",
      "Array:\n",
      "[[ 1.23245112 -0.00768079 -0.07450089]\n",
      " [-0.56771443 -1.97330254  3.73834768]\n",
      " [ 0.39648399  3.41980952 -3.26868247]]\n",
      "Data type:\tfloat64\n",
      "Array shape:\t(3, 3)\n",
      "\n",
      "\"A x A_inverse = Identity\" should be true:\n",
      "Array:\n",
      "[[ 1.00000000e+00  5.79930058e-18  5.80399199e-18]\n",
      " [ 2.91183931e-17  1.00000000e+00 -2.91295758e-16]\n",
      " [-3.56043584e-17  1.36180968e-16  1.00000000e+00]]\n",
      "Data type:\tfloat64\n",
      "Array shape:\t(3, 3)\n",
      "\n"
     ]
    }
   ],
   "source": [
    "A = np.random.random((3,3))\n",
    "print('Array \"A\":')\n",
    "array_info(A)\n",
    "A_inverse = np.linalg.inv(A)\n",
    "print('Inverse of \"A\" (\"A_inverse\"):')\n",
    "array_info(A_inverse)\n",
    "\n",
    "print('\"A x A_inverse = Identity\" should be true:')\n",
    "A_X_A_inverse = np.matmul(A, A_inverse)  # A x A_inverse = I = Identity matrix\n",
    "array_info(A_X_A_inverse)"
   ]
  },
  {
   "cell_type": "markdown",
   "metadata": {},
   "source": [
    "### <font style=\"color:rgb(8,133,37)\">6.4. Dot Product</font>"
   ]
  },
  {
   "cell_type": "code",
   "execution_count": 68,
   "metadata": {},
   "outputs": [
    {
     "name": "stdout",
     "output_type": "stream",
     "text": [
      "Array:\n",
      "70\n",
      "Data type:\tint32\n",
      "Array shape:\t()\n",
      "\n"
     ]
    }
   ],
   "source": [
    "a = np.array([1, 2, 3, 4])\n",
    "b = np.array([5, 6, 7, 8])\n",
    "\n",
    "dot_pro = np.dot(a, b)  # It will be a scalar, so its shape will be empty\n",
    "array_info(dot_pro)"
   ]
  },
  {
   "cell_type": "markdown",
   "metadata": {},
   "source": [
    "## <font color='blue'>7. Array statistics</font>"
   ]
  },
  {
   "cell_type": "markdown",
   "metadata": {},
   "source": [
    "### <font style=\"color:rgb(8,133,37)\">7.1. Sum</font>"
   ]
  },
  {
   "cell_type": "code",
   "execution_count": 69,
   "metadata": {},
   "outputs": [
    {
     "name": "stdout",
     "output_type": "stream",
     "text": [
      "15\n"
     ]
    }
   ],
   "source": [
    "a = np.array([1, 2, 3, 4, 5])\n",
    "\n",
    "print(a.sum())"
   ]
  },
  {
   "cell_type": "markdown",
   "metadata": {},
   "source": [
    "### <font style=\"color:rgb(8,133,37)\">7.2. Sum along Axis</font>"
   ]
  },
  {
   "cell_type": "code",
   "execution_count": 70,
   "metadata": {},
   "outputs": [
    {
     "name": "stdout",
     "output_type": "stream",
     "text": [
      "[[1 2 3]\n",
      " [4 5 6]]\n",
      "\n",
      "sum along 0th axis =  [5 7 9]\n",
      "\n",
      "sum along 1st axis =  [ 6 15]\n"
     ]
    }
   ],
   "source": [
    "a = np.array([[1, 2, 3], [4, 5, 6]])\n",
    "print(a)\n",
    "print('')\n",
    "\n",
    "print('sum along 0th axis = ',a.sum(axis = 0)) # sum along 0th axis ie: 1+4, 2+5, 3+6\n",
    "print(\"\")\n",
    "print('sum along 1st axis = ',a.sum(axis = 1)) # sum along 1st axis ie: 1+2+3, 4+5+6"
   ]
  },
  {
   "cell_type": "markdown",
   "metadata": {},
   "source": [
    "### <font style=\"color:rgb(8,133,37)\">7.3. Minimum and Maximum</font>"
   ]
  },
  {
   "cell_type": "code",
   "execution_count": 71,
   "metadata": {},
   "outputs": [
    {
     "name": "stdout",
     "output_type": "stream",
     "text": [
      "Minimum =  -1.1\n",
      "Maximum =  100.0\n"
     ]
    }
   ],
   "source": [
    "a = np.array([-1.1, 2, 5, 100])\n",
    "\n",
    "print('Minimum = ', a.min())\n",
    "print('Maximum = ', a.max())"
   ]
  },
  {
   "cell_type": "markdown",
   "metadata": {},
   "source": [
    "### <font style=\"color:rgb(8,133,37)\">7.4. Min and Max along Axis</font>"
   ]
  },
  {
   "cell_type": "code",
   "execution_count": 72,
   "metadata": {},
   "outputs": [
    {
     "name": "stdout",
     "output_type": "stream",
     "text": [
      "a =\n",
      " [[-2  0  2]\n",
      " [ 1  2  3]] \n",
      "\n",
      "Minimum =  -2\n",
      "Maximum =  3\n",
      "\n",
      "Minimum along axis 0 =  [-2  0  2]\n",
      "Maximum along axis 0 =  [1 2 3]\n",
      "\n",
      "Minimum along axis 1 =  [-2  1]\n",
      "Maximum along axis 1 =  [2 3]\n"
     ]
    }
   ],
   "source": [
    "a = np.array([[-2, 0, 2], [1, 2, 3]])\n",
    "\n",
    "print('a =\\n',a,'\\n')\n",
    "print('Minimum = ', a.min())\n",
    "print('Maximum = ', a.max())\n",
    "print()\n",
    "print('Minimum along axis 0 = ', a.min(0))\n",
    "print('Maximum along axis 0 = ', a.max(0))\n",
    "print()\n",
    "print('Minimum along axis 1 = ', a.min(1))\n",
    "print('Maximum along axis 1 = ', a.max(1))"
   ]
  },
  {
   "cell_type": "markdown",
   "metadata": {},
   "source": [
    "### <font style=\"color:rgb(8,133,37)\">7.5. Mean and Standard Deviation</font>"
   ]
  },
  {
   "cell_type": "code",
   "execution_count": 73,
   "metadata": {},
   "outputs": [
    {
     "name": "stdout",
     "output_type": "stream",
     "text": [
      "mean of the array =  -0.001428571428571414\n",
      "standard deviation of the array =  1.1142252730860458\n"
     ]
    }
   ],
   "source": [
    "a = np.array([-1, 0, -0.4, 1.2, 1.43, -1.9, 0.66])\n",
    "\n",
    "print('mean of the array = ',a.mean())\n",
    "print('standard deviation of the array = ',a.std())"
   ]
  },
  {
   "cell_type": "markdown",
   "metadata": {},
   "source": [
    "### <font style=\"color:rgb(8,133,37)\">7.6. Standardizing the Array</font>\n",
    "\n",
    "Make distribution of array elements such that`mean=0` and `std=1`."
   ]
  },
  {
   "cell_type": "code",
   "execution_count": 74,
   "metadata": {},
   "outputs": [
    {
     "name": "stdout",
     "output_type": "stream",
     "text": [
      "mean of the array =  -0.001428571428571414\n",
      "standard deviation of the array =  1.1142252730860458\n",
      "\n",
      "Standardized Array =  [-8.96202458e-01  1.28212083e-03 -3.57711711e-01  1.07826362e+00\n",
      "  1.28468507e+00 -1.70393858e+00  5.93621943e-01]\n",
      "\n",
      "mean of the standardized array =  -3.172065784643304e-17\n",
      "standard deviation of the standardized  array =  1.0\n"
     ]
    }
   ],
   "source": [
    "a = np.array([-1, 0, -0.4, 1.2, 1.43, -1.9, 0.66])\n",
    "\n",
    "print('mean of the array = ',a.mean())\n",
    "print('standard deviation of the array = ',a.std())\n",
    "print()\n",
    "\n",
    "standardized_a = (a - a.mean())/a.std()\n",
    "print('Standardized Array = ', standardized_a)\n",
    "print()\n",
    "\n",
    "print('mean of the standardized array = ',standardized_a.mean()) # close to 0\n",
    "print('standard deviation of the standardized  array = ',standardized_a.std()) # equals to 1"
   ]
  },
  {
   "cell_type": "markdown",
   "metadata": {},
   "source": [
    "# <font color='blue'>References </font>\n",
    "\n",
    "https://numpy.org/devdocs/user/quickstart.html\n",
    "\n",
    "https://numpy.org/devdocs/user/basics.types.html\n",
    "\n",
    "https://docs.scipy.org/doc/numpy/reference/generated/numpy.ndarray.astype.html\n",
    "\n",
    "https://coolsymbol.com/emojis/emoji-for-copy-and-paste.html\n",
    "\n",
    "https://docs.scipy.org/doc/numpy-1.13.0/reference/routines.math.html\n",
    "\n",
    "https://docs.scipy.org/doc/numpy-1.13.0/reference/generated/numpy.exp.html#numpy.exp\n",
    "\n",
    "https://docs.scipy.org/doc/numpy/reference/generated/numpy.clip.html\n",
    "\n",
    "https://docs.scipy.org/doc/numpy/reference/generated/numpy.sqrt.html\n",
    "\n",
    "https://docs.scipy.org/doc/numpy/reference/generated/numpy.log.html\n",
    "\n",
    "https://docs.scipy.org/doc/numpy/reference/generated/numpy.power.html\n",
    "\n",
    "https://docs.scipy.org/doc/numpy/reference/generated/numpy.reshape.html\n",
    "\n",
    "https://docs.scipy.org/doc/numpy/reference/generated/numpy.expand_dims.html\n",
    "\n",
    "https://docs.scipy.org/doc/numpy/reference/generated/numpy.squeeze.html\n",
    "\n",
    "https://docs.scipy.org/doc/numpy/reference/generated/numpy.concatenate.html\n",
    "\n",
    "https://docs.scipy.org/doc/numpy/reference/generated/numpy.hstack.html#numpy.hstack\n",
    "\n",
    "https://docs.scipy.org/doc/numpy/reference/generated/numpy.vstack.html#numpy.vstack"
   ]
  },
  {
   "cell_type": "code",
   "execution_count": null,
   "metadata": {},
   "outputs": [],
   "source": []
  }
 ],
 "metadata": {
  "jupytext": {
   "encoding": "# -*- coding: utf-8 -*-",
   "formats": "ipynb,py:light"
  },
  "kernelspec": {
   "display_name": "Python 3",
   "language": "python",
   "name": "python3"
  },
  "language_info": {
   "codemirror_mode": {
    "name": "ipython",
    "version": 3
   },
   "file_extension": ".py",
   "mimetype": "text/x-python",
   "name": "python",
   "nbconvert_exporter": "python",
   "pygments_lexer": "ipython3",
   "version": "3.8.18"
  }
 },
 "nbformat": 4,
 "nbformat_minor": 2
}
